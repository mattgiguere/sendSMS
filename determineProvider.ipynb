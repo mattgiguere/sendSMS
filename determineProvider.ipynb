{
 "metadata": {
  "name": "",
  "signature": "sha256:9c79b947fa0275d165b5d3d8c453decc2660fb0c19387ab282f24f11a25e969a"
 },
 "nbformat": 3,
 "nbformat_minor": 0,
 "worksheets": [
  {
   "cells": [
    {
     "cell_type": "heading",
     "level": 2,
     "metadata": {},
     "source": [
      "Determine the Network Provider"
     ]
    },
    {
     "cell_type": "markdown",
     "metadata": {},
     "source": [
      "This notebook goes over determining the cellular network provider of a caller."
     ]
    },
    {
     "cell_type": "code",
     "collapsed": false,
     "input": [
      "import mechanize\n",
      "from bs4 import BeautifulSoup\n",
      "import re"
     ],
     "language": "python",
     "metadata": {},
     "outputs": [],
     "prompt_number": 151
    },
    {
     "cell_type": "code",
     "collapsed": false,
     "input": [
      "# Browser\n",
      "br = mechanize.Browser()\n"
     ],
     "language": "python",
     "metadata": {},
     "outputs": [],
     "prompt_number": 152
    },
    {
     "cell_type": "code",
     "collapsed": false,
     "input": [
      "# Browser options\n",
      "br.set_handle_equiv(True)\n",
      "br.set_handle_gzip(True)\n",
      "br.set_handle_redirect(True)\n",
      "br.set_handle_referer(True)\n",
      "br.set_handle_robots(False)\n",
      "\n",
      "\n",
      "# Follows refresh 0 but not hangs on refresh > 0\n",
      "br.set_handle_refresh(mechanize._http.HTTPRefreshProcessor(), max_time=1)\n",
      "\n",
      "# User-Agent (this is cheating, ok?)\n",
      "br.addheaders = [('User-agent', 'Mozilla/5.0 (X11; U; Linux i686; en-US; rv:1.9.0.1) Gecko/2008071615 Fedora/3.0.1-1.fc9 Firefox/3.0.1')]\n",
      "\n",
      "# The site we will navigate into, handling it's session\n",
      "response = br.open('http://www.freecarrierlookup.com')"
     ],
     "language": "python",
     "metadata": {},
     "outputs": [],
     "prompt_number": 153
    },
    {
     "cell_type": "code",
     "collapsed": false,
     "input": [
      "print(response.read())"
     ],
     "language": "python",
     "metadata": {},
     "outputs": [
      {
       "output_type": "stream",
       "stream": "stdout",
       "text": [
        "<html>\n",
        "\n",
        "<head>\n",
        "    <title>Free Carrier Lookup - Find the carrier information for phone numbers - worldwide. </title>\n",
        "    <meta name=\"description\" content=\"Free Carrier information for any phone number. Plus email-to-SMS gateway addresses for USA/Canadian cell phones. Number portability aware; powered by Data24-7.\"/>\n",
        "\n",
        "    <meta name=\"keywords\" content=\"free carrier lookup, carrier looukp, separate wireless phone numbers, SMS gateway addresses, email to SMS,mobile phone numbers,api,carrier lookup api\" />\n",
        "    <meta http-equiv=\"Content-Type\" content=\"text/html; charset=iso-8859-1\" />\n",
        "    <link rel=\"stylesheet\" href=\"css/style.css\" type=\"text/css\" media=\"all\">\n",
        "</head>\n",
        "\n",
        "<style type=\"text/css\">\n",
        "#large    {\n",
        "margin-left: auto; margin-right: auto;\n",
        "width:400px;\n",
        "height: 45px;\n",
        "font-size:35px;\n",
        "display:block;\n",
        "border: 1px solid #999;\n",
        "-webkit-box-shadow: 0px 0px 4px rgba(0, 0, 0, 0.4);\n",
        "-moz-box-shadow: 0px 0px 4px rgba(0, 0, 0, 0.4);\n",
        "box-shadow: 0px 0px 4px rgba(0, 0, 0, 0.4);\n",
        "}\n",
        "#small    {\n",
        "margin-left: auto; margin-right: auto;\n",
        "width:75px;\n",
        "height: 45px;\n",
        "font-size:35px;\n",
        "text-align:center;\n",
        "display:block;\n",
        "border: 1px solid #999;\n",
        "-webkit-box-shadow: 0px 0px 4px rgba(0, 0, 0, 0.2);\n",
        "-moz-box-shadow: 0px 0px 4px rgba(0, 0, 0, 0.2);\n",
        "box-shadow: 0px 0px 4px rgba(0, 0, 0, 0.2);\n",
        "\n",
        "}\n",
        "table {\n",
        "margin-left:auto; \n",
        "margin-right:auto;\n",
        "border: 0px;\n",
        "}\n",
        "td\n",
        "{\n",
        "text-align:center;\n",
        "}\n",
        ".warning {\n",
        "font-size:20px;\n",
        "color:red;\n",
        "line-height:24px;\n",
        "}\n",
        "\n",
        ".infotable {\n",
        "width:315px;\n",
        "border:0px;\n",
        "}\n",
        ".infotd {\n",
        "text-align:left;\n",
        "font-size:13px;\n",
        "font-weight:bold;\n",
        "}\n",
        "</style>\n",
        "\n",
        "\n",
        "<body class=\"gray1\">\n",
        "\n",
        "<div id=\"fb-root\"></div>\n",
        "<script>(function(d, s, id) {\n",
        "  var js, fjs = d.getElementsByTagName(s)[0];\n",
        "  if (d.getElementById(id)) return;\n",
        "  js = d.createElement(s); js.id = id;\n",
        "  js.src = \"//connect.facebook.net/en_US/sdk.js#xfbml=1&version=v2.0\";\n",
        "  fjs.parentNode.insertBefore(js, fjs);\n",
        "}(document, 'script', 'facebook-jssdk'));</script>\n",
        "\n",
        "<script>\n",
        "  (function(i,s,o,g,r,a,m){i['GoogleAnalyticsObject']=r;i[r]=i[r]||function(){\n",
        "  (i[r].q=i[r].q||[]).push(arguments)},i[r].l=1*new Date();a=s.createElement(o),\n",
        "  m=s.getElementsByTagName(o)[0];a.async=1;a.src=g;m.parentNode.insertBefore(a,m)\n",
        "  })(window,document,'script','//www.google-analytics.com/analytics.js','ga');\n",
        "\n",
        "  ga('create', 'UA-41459312-1', 'freecarrierlookup.com');\n",
        "  ga('send', 'pageview');\n",
        "\n",
        "</script>\n",
        "\n",
        "<div id=\"wrap\">\n",
        "\n",
        "\t<div id=\"main\">\n",
        "\n",
        "<div class=\"wrapper\">\n",
        "\n",
        "<div class=\"logobox\">&nbsp;</div>\n",
        "\n",
        "<div class=\"infotext\">\n",
        "<table class=\"infotable\">\n",
        "<tr>\n",
        "<td class=\"infotd\">\n",
        "Enter a phone number and we'll return\n",
        "the carrier name and whether the number is\n",
        "wireless or landline for free! This carrier lookup service is\n",
        "<b>number portability aware</b>; it  \n",
        "works with ported phone numbers from \n",
        "<a href=\"http://www.data24-7.com/countries.php\" target=\"_blank\">most countries,</a>\n",
        "including the USA and Canada.\n",
        "</td>\n",
        "</tr>\n",
        "</table>\n",
        "</div>\n",
        "<br>\n",
        "<br>\n",
        "<!-- This php code is for when the form is submitted -->\n",
        "\n",
        "\n",
        "\n",
        "\n",
        "\n",
        "<!-- If $is_results is true, then we need to print the results on the screen -->\n",
        "\n",
        "\n",
        "\n",
        "\n",
        "\n",
        "\n",
        "<h13>Enter Phone Number Below:<br></h13>\n",
        "<!--<h12>(country code required for all numbers)</h12><br><br> -->\n",
        "\n",
        "\n",
        "\n",
        "\n",
        "<!-- This is the main form where people enter phone numbers -->\n",
        "\n",
        "  <form action=\"http://www.freecarrierlookup.com\" method=\"POST\">\n",
        "    <table>\n",
        "    <tr>\n",
        "    <td><input id=\"small\" type=\"text\" name=\"cc\" value=\"1\"></td><td><input type=\"text\" id=\"large\" name=\"phonenum\"></td>\n",
        "    </tr>\n",
        "    <tr>\n",
        "    <td><h7>country code</h7><br><h14>(\"1\" for US/Canada)</h14></td><td><h7>phone number (U.S. or international)</h7></td>\n",
        "    </tr>\n",
        "    <tr>\n",
        "    <td colspan=\"2\"><input type=\"hidden\" name=\"error\" value=\"true\"> <br><br><br><input type=\"image\" src=\"images/search2.png\" onmouseover=\"this.src='images/search2hi.png'\" onmouseout=\"this.src='images/search2.png'\"/></td>\n",
        "    </tr>\n",
        "    <tr><td><br></td></tr>\n",
        "    <tr><td style=\"text-align:center\" colspan=\"2\" >Carrier Lookup API and batch uploads available <a href=\"http://www.data24-7.com/carrier24-7.php?r=1\">here.<br></td></tr>\n",
        "    <tr><td><br></td></tr>\n",
        "    <tr>\n",
        "    <td style=\"text-align:center\" colspan=\"2\">Please like us on Facebook and spread the word about our free service!</td></tr>\n",
        "    <tr>\n",
        "    <td style=\"text-align:center\" colspan=\"2\"><div class=\"fb-like\" data-href=\"https://www.facebook.com/FreeCarrierLookup\" data-width=\"225\" data-layout=\"standard\" data-action=\"like\" data-show-faces=\"false\" data-share=\"true\"></div></td>\n",
        "    </tr>\n",
        "    </table>\n",
        "  </form>\n",
        "\n",
        "\n",
        "\n",
        "\n",
        "\n",
        "\n",
        "\n",
        "\n",
        "\n",
        "\n",
        "\n",
        "\n",
        "\n",
        "\n",
        "</div>\n",
        "\n",
        "</div>\n",
        "</div>\t\n",
        "\n",
        "<div id=\"footer\">\n",
        "<style type=\"text/css\">\n",
        "\n",
        "#twidth {\n",
        "width: 700px;\n",
        "z-index:12;\n",
        "}\n",
        "td{\n",
        "vertical-align:middle;\n",
        "}\n",
        "#taligntop\n",
        "{\n",
        "vertical-align:top;\n",
        "}\n",
        "#talignleft\n",
        "{\n",
        "text-align:left;\n",
        "}\n",
        "img\n",
        "{\n",
        "vertical-align:middle;\n",
        "} \n",
        ".orangefont {font-size:26px; color:#d63d1e; font-weight:400;}\n",
        ".copy {width:1050px; height: 15px; padding:5px; font-size:10px; line-height:12px; color:#000000; font-weight:400; text-align:left; margin-left: auto; margin-right: auto;}\n",
        "</style>\n",
        "\n",
        "\n",
        "<div class=\"graybottom\">\n",
        "\n",
        "<table id=\"twidth\">\n",
        "    <tr>\n",
        "    <td><br><img src=\"images/globe.png\" border=\"0\" alt=\"Data24-7. Data on demand.\"></td>\n",
        "    <td id=\"talignleft\"><br><span class=\"orangefont\">This site is powered by Data24-7.</span><br>We have a service for all your data needs.<a href=\"http://www.data24-7.com?r=1\"><img src=\"images/learn-more.png\" border=\"0\" alt=\"learn more about Data24-7.\"></a></td>\n",
        "    <td id=\"taligntop\"><a href=\"http://www.data24-7.com?r=1\"><img src=\"images/data247.png\" border=\"0\" alt=\"Data24-7. Data on demand.\"></a></td>\n",
        "    </tr>\n",
        "</table>\n",
        "\n",
        "\n",
        "</div>\n",
        "<br><div class=\"copy\"><center>Data24-7(C) 2014 Kasteris Corporation </center><br>\n",
        "<b>Terms:</b> Use of this website is at your own risk. We will not be held liable for any problems with the data or website. Your use of this website indicates your acknowledgement and acceptance of these warnings and conditions. <br>\n",
        "<b>Limts:</b> This website is meant for personal use, and as such, is limited to 15 lookups per 30 day period. For commercial use, please visit <a href=\"www.data24-7.com?r=1\">Data24-7</a>.<br>\n",
        "<b>Privacy Policy:</b> All data we receive from users of this webiste, including phone numbers, is kept private; we will not sell or disclose this data to others, nor will we use it ourselves for marketing or any other such purposes.\n",
        "<br><br>\n",
        "</div>\n",
        "\n",
        "</body>\n",
        "</div>\n",
        "\n",
        "</html>\n",
        "   \n",
        "   \n",
        "\n",
        "  \n",
        "\n",
        "\n"
       ]
      }
     ],
     "prompt_number": 154
    },
    {
     "cell_type": "code",
     "collapsed": false,
     "input": [
      "for form in br.forms():\n",
      "    print(\"Form name: \", form.name)"
     ],
     "language": "python",
     "metadata": {},
     "outputs": [
      {
       "output_type": "stream",
       "stream": "stdout",
       "text": [
        "('Form name: ', None)\n"
       ]
      }
     ],
     "prompt_number": 155
    },
    {
     "cell_type": "code",
     "collapsed": false,
     "input": [
      "# Select the first (index zero) form\n",
      "br.select_form(nr=0)"
     ],
     "language": "python",
     "metadata": {},
     "outputs": [],
     "prompt_number": 156
    },
    {
     "cell_type": "code",
     "collapsed": false,
     "input": [
      "br.form['cc'] = '1'"
     ],
     "language": "python",
     "metadata": {},
     "outputs": [],
     "prompt_number": 157
    },
    {
     "cell_type": "code",
     "collapsed": false,
     "input": [
      "br.form['phonenum'] = '4158675309'"
     ],
     "language": "python",
     "metadata": {},
     "outputs": [],
     "prompt_number": 158
    },
    {
     "cell_type": "code",
     "collapsed": false,
     "input": [
      "print(form.name)"
     ],
     "language": "python",
     "metadata": {},
     "outputs": [
      {
       "output_type": "stream",
       "stream": "stdout",
       "text": [
        "None\n"
       ]
      }
     ],
     "prompt_number": 159
    },
    {
     "cell_type": "code",
     "collapsed": false,
     "input": [
      "# User credentials\n",
      "#br.form['Email'] = 'user'\n",
      "#br.form['Passwd'] = 'password'\n",
      "\n",
      "# Login\n",
      "br.submit()"
     ],
     "language": "python",
     "metadata": {},
     "outputs": [
      {
       "metadata": {},
       "output_type": "pyout",
       "prompt_number": 160,
       "text": [
        "<response_seek_wrapper at 0x1086158c0 whose wrapped object = <closeable_response at 0x108627680 whose fp = <socket._fileobject object at 0x1084e3a50>>>"
       ]
      }
     ],
     "prompt_number": 160
    },
    {
     "cell_type": "code",
     "collapsed": false,
     "input": [
      "html = br.response().read()\n",
      "soup = BeautifulSoup(html)\n"
     ],
     "language": "python",
     "metadata": {},
     "outputs": [],
     "prompt_number": 161
    },
    {
     "cell_type": "code",
     "collapsed": false,
     "input": [
      "soup"
     ],
     "language": "python",
     "metadata": {},
     "outputs": [
      {
       "metadata": {},
       "output_type": "pyout",
       "prompt_number": 162,
       "text": [
        "<html>\n",
        "<head>\n",
        "<title>Free Carrier Lookup - Find the carrier information for phone numbers - worldwide. </title>\n",
        "<meta content=\"Free Carrier information for any phone number. Plus email-to-SMS gateway addresses for USA/Canadian cell phones. Number portability aware; powered by Data24-7.\" name=\"description\"/>\n",
        "<meta content=\"free carrier lookup, carrier looukp, separate wireless phone numbers, SMS gateway addresses, email to SMS,mobile phone numbers,api,carrier lookup api\" name=\"keywords\"/>\n",
        "<meta content=\"text/html; charset=utf-8\" http-equiv=\"Content-Type\"/>\n",
        "<link href=\"css/style.css\" media=\"all\" rel=\"stylesheet\" type=\"text/css\"/>\n",
        "</head>\n",
        "<style type=\"text/css\">\n",
        "#large    {\n",
        "margin-left: auto; margin-right: auto;\n",
        "width:400px;\n",
        "height: 45px;\n",
        "font-size:35px;\n",
        "display:block;\n",
        "border: 1px solid #999;\n",
        "-webkit-box-shadow: 0px 0px 4px rgba(0, 0, 0, 0.4);\n",
        "-moz-box-shadow: 0px 0px 4px rgba(0, 0, 0, 0.4);\n",
        "box-shadow: 0px 0px 4px rgba(0, 0, 0, 0.4);\n",
        "}\n",
        "#small    {\n",
        "margin-left: auto; margin-right: auto;\n",
        "width:75px;\n",
        "height: 45px;\n",
        "font-size:35px;\n",
        "text-align:center;\n",
        "display:block;\n",
        "border: 1px solid #999;\n",
        "-webkit-box-shadow: 0px 0px 4px rgba(0, 0, 0, 0.2);\n",
        "-moz-box-shadow: 0px 0px 4px rgba(0, 0, 0, 0.2);\n",
        "box-shadow: 0px 0px 4px rgba(0, 0, 0, 0.2);\n",
        "\n",
        "}\n",
        "table {\n",
        "margin-left:auto; \n",
        "margin-right:auto;\n",
        "border: 0px;\n",
        "}\n",
        "td\n",
        "{\n",
        "text-align:center;\n",
        "}\n",
        ".warning {\n",
        "font-size:20px;\n",
        "color:red;\n",
        "line-height:24px;\n",
        "}\n",
        "\n",
        ".infotable {\n",
        "width:315px;\n",
        "border:0px;\n",
        "}\n",
        ".infotd {\n",
        "text-align:left;\n",
        "font-size:13px;\n",
        "font-weight:bold;\n",
        "}\n",
        "</style>\n",
        "<body class=\"gray1\">\n",
        "<div id=\"fb-root\"></div>\n",
        "<script>(function(d, s, id) {\n",
        "  var js, fjs = d.getElementsByTagName(s)[0];\n",
        "  if (d.getElementById(id)) return;\n",
        "  js = d.createElement(s); js.id = id;\n",
        "  js.src = \"//connect.facebook.net/en_US/sdk.js#xfbml=1&version=v2.0\";\n",
        "  fjs.parentNode.insertBefore(js, fjs);\n",
        "}(document, 'script', 'facebook-jssdk'));</script>\n",
        "<script>\n",
        "  (function(i,s,o,g,r,a,m){i['GoogleAnalyticsObject']=r;i[r]=i[r]||function(){\n",
        "  (i[r].q=i[r].q||[]).push(arguments)},i[r].l=1*new Date();a=s.createElement(o),\n",
        "  m=s.getElementsByTagName(o)[0];a.async=1;a.src=g;m.parentNode.insertBefore(a,m)\n",
        "  })(window,document,'script','//www.google-analytics.com/analytics.js','ga');\n",
        "\n",
        "  ga('create', 'UA-41459312-1', 'freecarrierlookup.com');\n",
        "  ga('send', 'pageview');\n",
        "\n",
        "</script>\n",
        "<div id=\"wrap\">\n",
        "<div id=\"main\">\n",
        "<div class=\"wrapper\">\n",
        "<div class=\"logobox\">\u00a0</div>\n",
        "<div class=\"infotext\">\n",
        "<table class=\"infotable\">\n",
        "<tr>\n",
        "<td class=\"infotd\">\n",
        "Enter a phone number and we'll return\n",
        "the carrier name and whether the number is\n",
        "wireless or landline for free! This carrier lookup service is\n",
        "<b>number portability aware</b>; it  \n",
        "works with ported phone numbers from \n",
        "<a href=\"http://www.data24-7.com/countries.php\" target=\"_blank\">most countries,</a>\n",
        "including the USA and Canada.\n",
        "</td>\n",
        "</tr>\n",
        "</table>\n",
        "</div>\n",
        "<br/>\n",
        "<br/>\n",
        "<!-- This php code is for when the form is submitted -->\n",
        "<!-- If $is_results is true, then we need to print the results on the screen -->\n",
        "<br/>\n",
        "<div class=\"yellowbox\">\n",
        "<table>\n",
        "<tr><td style=\"text-align:left\"><font color=\"darkgreen\">Phone Number: </font></td><td style=\"text-align:left\">14158675309</td></tr>\n",
        "<tr><td style=\"text-align:left\"><font color=\"darkgreen\">Carrier: </font></td><td style=\"text-align:left\">wireline</td></tr>\n",
        "<tr><td style=\"text-align:left\"><font color=\"darkgreen\">Is Wireless: </font></td><td style=\"text-align:left\">n</td></tr>\n",
        "</table>\n",
        "</div><br/>\n",
        "<h13>Enter Phone Number Below:<br/></h13>\n",
        "<!--<h12>(country code required for all numbers)</h12><br><br> -->\n",
        "<!-- This is the main form where people enter phone numbers -->\n",
        "<form action=\"http://www.freecarrierlookup.com\" method=\"POST\">\n",
        "<table>\n",
        "<tr>\n",
        "<td><input id=\"small\" name=\"cc\" type=\"text\" value=\"1\"/></td><td><input id=\"large\" name=\"phonenum\" type=\"text\"/></td>\n",
        "</tr>\n",
        "<tr>\n",
        "<td><h7>country code</h7><br/><h14>(\"1\" for US/Canada)</h14></td><td><h7>phone number (U.S. or international)</h7></td>\n",
        "</tr>\n",
        "<tr>\n",
        "<td colspan=\"2\"><input name=\"error\" type=\"hidden\" value=\"true\"/> <br/><br/><br/><input onmouseout=\"this.src='images/search2.png'\" onmouseover=\"this.src='images/search2hi.png'\" src=\"images/search2.png\" type=\"image\"/></td>\n",
        "</tr>\n",
        "<tr><td><br/></td></tr>\n",
        "<tr><td colspan=\"2\" style=\"text-align:center\">Carrier Lookup API and batch uploads available <a href=\"http://www.data24-7.com/carrier24-7.php?r=1\">here.<br/></a></td></tr>\n",
        "<tr><td><br/></td></tr>\n",
        "<tr>\n",
        "<td colspan=\"2\" style=\"text-align:center\">Please like us on Facebook and spread the word about our free service!</td></tr>\n",
        "<tr>\n",
        "<td colspan=\"2\" style=\"text-align:center\"><div class=\"fb-like\" data-action=\"like\" data-href=\"https://www.facebook.com/FreeCarrierLookup\" data-layout=\"standard\" data-share=\"true\" data-show-faces=\"false\" data-width=\"225\"></div></td>\n",
        "</tr>\n",
        "</table>\n",
        "</form>\n",
        "</div>\n",
        "</div>\n",
        "</div>\n",
        "<div id=\"footer\">\n",
        "<style type=\"text/css\">\n",
        "\n",
        "#twidth {\n",
        "width: 700px;\n",
        "z-index:12;\n",
        "}\n",
        "td{\n",
        "vertical-align:middle;\n",
        "}\n",
        "#taligntop\n",
        "{\n",
        "vertical-align:top;\n",
        "}\n",
        "#talignleft\n",
        "{\n",
        "text-align:left;\n",
        "}\n",
        "img\n",
        "{\n",
        "vertical-align:middle;\n",
        "} \n",
        ".orangefont {font-size:26px; color:#d63d1e; font-weight:400;}\n",
        ".copy {width:1050px; height: 15px; padding:5px; font-size:10px; line-height:12px; color:#000000; font-weight:400; text-align:left; margin-left: auto; margin-right: auto;}\n",
        "</style>\n",
        "<div class=\"graybottom\">\n",
        "<table id=\"twidth\">\n",
        "<tr>\n",
        "<td><br/><img alt=\"Data24-7. Data on demand.\" border=\"0\" src=\"images/globe.png\"/></td>\n",
        "<td id=\"talignleft\"><br/><span class=\"orangefont\">This site is powered by Data24-7.</span><br/>We have a service for all your data needs.<a href=\"http://www.data24-7.com?r=1\"><img alt=\"learn more about Data24-7.\" border=\"0\" src=\"images/learn-more.png\"/></a></td>\n",
        "<td id=\"taligntop\"><a href=\"http://www.data24-7.com?r=1\"><img alt=\"Data24-7. Data on demand.\" border=\"0\" src=\"images/data247.png\"/></a></td>\n",
        "</tr>\n",
        "</table>\n",
        "</div>\n",
        "<br/><div class=\"copy\"><center>Data24-7(C) 2014 Kasteris Corporation </center><br/>\n",
        "<b>Terms:</b> Use of this website is at your own risk. We will not be held liable for any problems with the data or website. Your use of this website indicates your acknowledgement and acceptance of these warnings and conditions. <br/>\n",
        "<b>Limts:</b> This website is meant for personal use, and as such, is limited to 15 lookups per 30 day period. For commercial use, please visit <a href=\"www.data24-7.com?r=1\">Data24-7</a>.<br/>\n",
        "<b>Privacy Policy:</b> All data we receive from users of this webiste, including phone numbers, is kept private; we will not sell or disclose this data to others, nor will we use it ourselves for marketing or any other such purposes.\n",
        "<br/><br/>\n",
        "</div>\n",
        "</div></body>\n",
        "</html>"
       ]
      }
     ],
     "prompt_number": 162
    },
    {
     "cell_type": "code",
     "collapsed": false,
     "input": [
      "soup.prettify()"
     ],
     "language": "python",
     "metadata": {},
     "outputs": [
      {
       "metadata": {},
       "output_type": "pyout",
       "prompt_number": 163,
       "text": [
        "u'<html>\\n <head>\\n  <title>\\n   Free Carrier Lookup - Find the carrier information for phone numbers - worldwide.\\n  </title>\\n  <meta content=\"Free Carrier information for any phone number. Plus email-to-SMS gateway addresses for USA/Canadian cell phones. Number portability aware; powered by Data24-7.\" name=\"description\"/>\\n  <meta content=\"free carrier lookup, carrier looukp, separate wireless phone numbers, SMS gateway addresses, email to SMS,mobile phone numbers,api,carrier lookup api\" name=\"keywords\"/>\\n  <meta content=\"text/html; charset=utf-8\" http-equiv=\"Content-Type\"/>\\n  <link href=\"css/style.css\" media=\"all\" rel=\"stylesheet\" type=\"text/css\"/>\\n </head>\\n <style type=\"text/css\">\\n  #large    {\\nmargin-left: auto; margin-right: auto;\\nwidth:400px;\\nheight: 45px;\\nfont-size:35px;\\ndisplay:block;\\nborder: 1px solid #999;\\n-webkit-box-shadow: 0px 0px 4px rgba(0, 0, 0, 0.4);\\n-moz-box-shadow: 0px 0px 4px rgba(0, 0, 0, 0.4);\\nbox-shadow: 0px 0px 4px rgba(0, 0, 0, 0.4);\\n}\\n#small    {\\nmargin-left: auto; margin-right: auto;\\nwidth:75px;\\nheight: 45px;\\nfont-size:35px;\\ntext-align:center;\\ndisplay:block;\\nborder: 1px solid #999;\\n-webkit-box-shadow: 0px 0px 4px rgba(0, 0, 0, 0.2);\\n-moz-box-shadow: 0px 0px 4px rgba(0, 0, 0, 0.2);\\nbox-shadow: 0px 0px 4px rgba(0, 0, 0, 0.2);\\n\\n}\\ntable {\\nmargin-left:auto; \\nmargin-right:auto;\\nborder: 0px;\\n}\\ntd\\n{\\ntext-align:center;\\n}\\n.warning {\\nfont-size:20px;\\ncolor:red;\\nline-height:24px;\\n}\\n\\n.infotable {\\nwidth:315px;\\nborder:0px;\\n}\\n.infotd {\\ntext-align:left;\\nfont-size:13px;\\nfont-weight:bold;\\n}\\n </style>\\n <body class=\"gray1\">\\n  <div id=\"fb-root\">\\n  </div>\\n  <script>\\n   (function(d, s, id) {\\n  var js, fjs = d.getElementsByTagName(s)[0];\\n  if (d.getElementById(id)) return;\\n  js = d.createElement(s); js.id = id;\\n  js.src = \"//connect.facebook.net/en_US/sdk.js#xfbml=1&version=v2.0\";\\n  fjs.parentNode.insertBefore(js, fjs);\\n}(document, \\'script\\', \\'facebook-jssdk\\'));\\n  </script>\\n  <script>\\n   (function(i,s,o,g,r,a,m){i[\\'GoogleAnalyticsObject\\']=r;i[r]=i[r]||function(){\\n  (i[r].q=i[r].q||[]).push(arguments)},i[r].l=1*new Date();a=s.createElement(o),\\n  m=s.getElementsByTagName(o)[0];a.async=1;a.src=g;m.parentNode.insertBefore(a,m)\\n  })(window,document,\\'script\\',\\'//www.google-analytics.com/analytics.js\\',\\'ga\\');\\n\\n  ga(\\'create\\', \\'UA-41459312-1\\', \\'freecarrierlookup.com\\');\\n  ga(\\'send\\', \\'pageview\\');\\n  </script>\\n  <div id=\"wrap\">\\n   <div id=\"main\">\\n    <div class=\"wrapper\">\\n     <div class=\"logobox\">\\n     </div>\\n     <div class=\"infotext\">\\n      <table class=\"infotable\">\\n       <tr>\\n        <td class=\"infotd\">\\n         Enter a phone number and we\\'ll return\\nthe carrier name and whether the number is\\nwireless or landline for free! This carrier lookup service is\\n         <b>\\n          number portability aware\\n         </b>\\n         ; it  \\nworks with ported phone numbers from\\n         <a href=\"http://www.data24-7.com/countries.php\" target=\"_blank\">\\n          most countries,\\n         </a>\\n         including the USA and Canada.\\n        </td>\\n       </tr>\\n      </table>\\n     </div>\\n     <br/>\\n     <br/>\\n     <!-- This php code is for when the form is submitted -->\\n     <!-- If $is_results is true, then we need to print the results on the screen -->\\n     <br/>\\n     <div class=\"yellowbox\">\\n      <table>\\n       <tr>\\n        <td style=\"text-align:left\">\\n         <font color=\"darkgreen\">\\n          Phone Number:\\n         </font>\\n        </td>\\n        <td style=\"text-align:left\">\\n         14158675309\\n        </td>\\n       </tr>\\n       <tr>\\n        <td style=\"text-align:left\">\\n         <font color=\"darkgreen\">\\n          Carrier:\\n         </font>\\n        </td>\\n        <td style=\"text-align:left\">\\n         wireline\\n        </td>\\n       </tr>\\n       <tr>\\n        <td style=\"text-align:left\">\\n         <font color=\"darkgreen\">\\n          Is Wireless:\\n         </font>\\n        </td>\\n        <td style=\"text-align:left\">\\n         n\\n        </td>\\n       </tr>\\n      </table>\\n     </div>\\n     <br/>\\n     <h13>\\n      Enter Phone Number Below:\\n      <br/>\\n     </h13>\\n     <!--<h12>(country code required for all numbers)</h12><br><br> -->\\n     <!-- This is the main form where people enter phone numbers -->\\n     <form action=\"http://www.freecarrierlookup.com\" method=\"POST\">\\n      <table>\\n       <tr>\\n        <td>\\n         <input id=\"small\" name=\"cc\" type=\"text\" value=\"1\"/>\\n        </td>\\n        <td>\\n         <input id=\"large\" name=\"phonenum\" type=\"text\"/>\\n        </td>\\n       </tr>\\n       <tr>\\n        <td>\\n         <h7>\\n          country code\\n         </h7>\\n         <br/>\\n         <h14>\\n          (\"1\" for US/Canada)\\n         </h14>\\n        </td>\\n        <td>\\n         <h7>\\n          phone number (U.S. or international)\\n         </h7>\\n        </td>\\n       </tr>\\n       <tr>\\n        <td colspan=\"2\">\\n         <input name=\"error\" type=\"hidden\" value=\"true\"/>\\n         <br/>\\n         <br/>\\n         <br/>\\n         <input onmouseout=\"this.src=\\'images/search2.png\\'\" onmouseover=\"this.src=\\'images/search2hi.png\\'\" src=\"images/search2.png\" type=\"image\"/>\\n        </td>\\n       </tr>\\n       <tr>\\n        <td>\\n         <br/>\\n        </td>\\n       </tr>\\n       <tr>\\n        <td colspan=\"2\" style=\"text-align:center\">\\n         Carrier Lookup API and batch uploads available\\n         <a href=\"http://www.data24-7.com/carrier24-7.php?r=1\">\\n          here.\\n          <br/>\\n         </a>\\n        </td>\\n       </tr>\\n       <tr>\\n        <td>\\n         <br/>\\n        </td>\\n       </tr>\\n       <tr>\\n        <td colspan=\"2\" style=\"text-align:center\">\\n         Please like us on Facebook and spread the word about our free service!\\n        </td>\\n       </tr>\\n       <tr>\\n        <td colspan=\"2\" style=\"text-align:center\">\\n         <div class=\"fb-like\" data-action=\"like\" data-href=\"https://www.facebook.com/FreeCarrierLookup\" data-layout=\"standard\" data-share=\"true\" data-show-faces=\"false\" data-width=\"225\">\\n         </div>\\n        </td>\\n       </tr>\\n      </table>\\n     </form>\\n    </div>\\n   </div>\\n  </div>\\n  <div id=\"footer\">\\n   <style type=\"text/css\">\\n    #twidth {\\nwidth: 700px;\\nz-index:12;\\n}\\ntd{\\nvertical-align:middle;\\n}\\n#taligntop\\n{\\nvertical-align:top;\\n}\\n#talignleft\\n{\\ntext-align:left;\\n}\\nimg\\n{\\nvertical-align:middle;\\n} \\n.orangefont {font-size:26px; color:#d63d1e; font-weight:400;}\\n.copy {width:1050px; height: 15px; padding:5px; font-size:10px; line-height:12px; color:#000000; font-weight:400; text-align:left; margin-left: auto; margin-right: auto;}\\n   </style>\\n   <div class=\"graybottom\">\\n    <table id=\"twidth\">\\n     <tr>\\n      <td>\\n       <br/>\\n       <img alt=\"Data24-7. Data on demand.\" border=\"0\" src=\"images/globe.png\"/>\\n      </td>\\n      <td id=\"talignleft\">\\n       <br/>\\n       <span class=\"orangefont\">\\n        This site is powered by Data24-7.\\n       </span>\\n       <br/>\\n       We have a service for all your data needs.\\n       <a href=\"http://www.data24-7.com?r=1\">\\n        <img alt=\"learn more about Data24-7.\" border=\"0\" src=\"images/learn-more.png\"/>\\n       </a>\\n      </td>\\n      <td id=\"taligntop\">\\n       <a href=\"http://www.data24-7.com?r=1\">\\n        <img alt=\"Data24-7. Data on demand.\" border=\"0\" src=\"images/data247.png\"/>\\n       </a>\\n      </td>\\n     </tr>\\n    </table>\\n   </div>\\n   <br/>\\n   <div class=\"copy\">\\n    <center>\\n     Data24-7(C) 2014 Kasteris Corporation\\n    </center>\\n    <br/>\\n    <b>\\n     Terms:\\n    </b>\\n    Use of this website is at your own risk. We will not be held liable for any problems with the data or website. Your use of this website indicates your acknowledgement and acceptance of these warnings and conditions.\\n    <br/>\\n    <b>\\n     Limts:\\n    </b>\\n    This website is meant for personal use, and as such, is limited to 15 lookups per 30 day period. For commercial use, please visit\\n    <a href=\"www.data24-7.com?r=1\">\\n     Data24-7\\n    </a>\\n    .\\n    <br/>\\n    <b>\\n     Privacy Policy:\\n    </b>\\n    All data we receive from users of this webiste, including phone numbers, is kept private; we will not sell or disclose this data to others, nor will we use it ourselves for marketing or any other such purposes.\\n    <br/>\\n    <br/>\\n   </div>\\n  </div>\\n </body>\\n</html>\\n'"
       ]
      }
     ],
     "prompt_number": 163
    },
    {
     "cell_type": "code",
     "collapsed": false,
     "input": [
      "soup.contents[0].name"
     ],
     "language": "python",
     "metadata": {},
     "outputs": [
      {
       "metadata": {},
       "output_type": "pyout",
       "prompt_number": 164,
       "text": [
        "'html'"
       ]
      }
     ],
     "prompt_number": 164
    },
    {
     "cell_type": "code",
     "collapsed": false,
     "input": [
      "phoneTab = soup.find('div', {\"class\": \"yellowbox\"})"
     ],
     "language": "python",
     "metadata": {},
     "outputs": [],
     "prompt_number": 165
    },
    {
     "cell_type": "code",
     "collapsed": false,
     "input": [
      "phoneTab"
     ],
     "language": "python",
     "metadata": {},
     "outputs": [
      {
       "metadata": {},
       "output_type": "pyout",
       "prompt_number": 166,
       "text": [
        "<div class=\"yellowbox\">\n",
        "<table>\n",
        "<tr><td style=\"text-align:left\"><font color=\"darkgreen\">Phone Number: </font></td><td style=\"text-align:left\">14158675309</td></tr>\n",
        "<tr><td style=\"text-align:left\"><font color=\"darkgreen\">Carrier: </font></td><td style=\"text-align:left\">wireline</td></tr>\n",
        "<tr><td style=\"text-align:left\"><font color=\"darkgreen\">Is Wireless: </font></td><td style=\"text-align:left\">n</td></tr>\n",
        "</table>\n",
        "</div>"
       ]
      }
     ],
     "prompt_number": 166
    },
    {
     "cell_type": "code",
     "collapsed": false,
     "input": [
      "type(phoneTab)"
     ],
     "language": "python",
     "metadata": {},
     "outputs": [
      {
       "metadata": {},
       "output_type": "pyout",
       "prompt_number": 167,
       "text": [
        "bs4.element.Tag"
       ]
      }
     ],
     "prompt_number": 167
    },
    {
     "cell_type": "code",
     "collapsed": false,
     "input": [
      "len(phoneTab.find_all('td'))"
     ],
     "language": "python",
     "metadata": {},
     "outputs": [
      {
       "metadata": {},
       "output_type": "pyout",
       "prompt_number": 168,
       "text": [
        "6"
       ]
      }
     ],
     "prompt_number": 168
    },
    {
     "cell_type": "code",
     "collapsed": false,
     "input": [
      "columns = phoneTab.find_all('td')"
     ],
     "language": "python",
     "metadata": {},
     "outputs": [],
     "prompt_number": 174
    },
    {
     "cell_type": "code",
     "collapsed": false,
     "input": [
      "#this only works if the number is a mobile number:\n",
      "if len(phoneTab.find_all('td')) > 6:\n",
      "    number = columns[7]\n",
      "else:\n",
      "    number = '<td style=\"text-align:left\">4158675309@txt.att.net </td>'"
     ],
     "language": "python",
     "metadata": {},
     "outputs": [],
     "prompt_number": 175
    },
    {
     "cell_type": "code",
     "collapsed": false,
     "input": [
      "number"
     ],
     "language": "python",
     "metadata": {},
     "outputs": [
      {
       "metadata": {},
       "output_type": "pyout",
       "prompt_number": 176,
       "text": [
        "'<td style=\"text-align:left\">4158675309@txt.att.net </td>'"
       ]
      }
     ],
     "prompt_number": 176
    },
    {
     "cell_type": "code",
     "collapsed": false,
     "input": [
      "m = re.findall('>(.*)<', str(number))\n"
     ],
     "language": "python",
     "metadata": {},
     "outputs": [],
     "prompt_number": 177
    },
    {
     "cell_type": "code",
     "collapsed": false,
     "input": [
      "m[0].strip()"
     ],
     "language": "python",
     "metadata": {},
     "outputs": [
      {
       "metadata": {},
       "output_type": "pyout",
       "prompt_number": 178,
       "text": [
        "'4158675309@txt.att.net'"
       ]
      }
     ],
     "prompt_number": 178
    },
    {
     "cell_type": "markdown",
     "metadata": {},
     "source": [
      "Great. We can now extract the full address to send the message to."
     ]
    },
    {
     "cell_type": "heading",
     "level": 3,
     "metadata": {},
     "source": [
      "Sending the Message"
     ]
    },
    {
     "cell_type": "markdown",
     "metadata": {},
     "source": [
      "This section goes over debugging the routine that sends the message."
     ]
    },
    {
     "cell_type": "code",
     "collapsed": false,
     "input": [
      "import smtplib\n",
      "from email.mime.text import MIMEText\n",
      "num='4158675309'\n",
      "msg='testing'\n",
      "emailaddr = 'matthew.giguere@gmail.com'\n",
      "prvdr='att'\n",
      "smtp='smtp.gmail.com'\n",
      "subj='hello'\n",
      "\n",
      "# Create a text/plain message\n",
      "msg = MIMEText(msg)\n",
      "\n",
      "toaddr = '4158675309@txt.att.net'\n",
      "\n",
      "msg['Subject'] = subj\n",
      "msg['From'] = emailaddr\n",
      "msg['To'] = toaddr\n"
     ],
     "language": "python",
     "metadata": {},
     "outputs": [],
     "prompt_number": 179
    },
    {
     "cell_type": "code",
     "collapsed": false,
     "input": [
      "s = smtplib.SMTP(smtp+\":587\")"
     ],
     "language": "python",
     "metadata": {},
     "outputs": [],
     "prompt_number": 180
    },
    {
     "cell_type": "code",
     "collapsed": false,
     "input": [
      "s.starttls()"
     ],
     "language": "python",
     "metadata": {},
     "outputs": [
      {
       "metadata": {},
       "output_type": "pyout",
       "prompt_number": 181,
       "text": [
        "(220, '2.0.0 Ready to start TLS')"
       ]
      }
     ],
     "prompt_number": 181
    },
    {
     "cell_type": "code",
     "collapsed": false,
     "input": [
      "#s.login('username@gmail.com', 'password')"
     ],
     "language": "python",
     "metadata": {},
     "outputs": [],
     "prompt_number": 149
    },
    {
     "cell_type": "code",
     "collapsed": false,
     "input": [
      "s.sendmail(msg['From'], msg['To'], msg.as_string())"
     ],
     "language": "python",
     "metadata": {},
     "outputs": [
      {
       "metadata": {},
       "output_type": "pyout",
       "prompt_number": 148,
       "text": [
        "{}"
       ]
      }
     ],
     "prompt_number": 148
    },
    {
     "cell_type": "code",
     "collapsed": false,
     "input": [
      "s.quit()"
     ],
     "language": "python",
     "metadata": {},
     "outputs": []
    }
   ],
   "metadata": {}
  }
 ]
}